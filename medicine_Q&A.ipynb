{
  "nbformat": 4,
  "nbformat_minor": 0,
  "metadata": {
    "colab": {
      "provenance": [],
      "authorship_tag": "ABX9TyObe2aXPn5Xe051maqKyiFk",
      "include_colab_link": true
    },
    "kernelspec": {
      "name": "python3",
      "display_name": "Python 3"
    },
    "language_info": {
      "name": "python"
    }
  },
  "cells": [
    {
      "cell_type": "markdown",
      "metadata": {
        "id": "view-in-github",
        "colab_type": "text"
      },
      "source": [
        "<a href=\"https://colab.research.google.com/github/VardhanKirti/Pharma-Bot/blob/main/medicine_Q%26A.ipynb\" target=\"_parent\"><img src=\"https://colab.research.google.com/assets/colab-badge.svg\" alt=\"Open In Colab\"/></a>"
      ]
    },
    {
      "cell_type": "code",
      "execution_count": 2,
      "metadata": {
        "id": "MwQyT-VLx7pD"
      },
      "outputs": [],
      "source": [
        "import numpy as np\n",
        "import pandas as pd"
      ]
    },
    {
      "cell_type": "code",
      "source": [
        "df=pd.read_csv('/content/final_cleaned_MID.csv')"
      ],
      "metadata": {
        "id": "ER25ZW45yyzg"
      },
      "execution_count": 3,
      "outputs": []
    },
    {
      "cell_type": "code",
      "source": [
        "df.head()"
      ],
      "metadata": {
        "colab": {
          "base_uri": "https://localhost:8080/",
          "height": 660
        },
        "id": "3xCdpedIy5Un",
        "outputId": "75f3b218-8fad-4cd7-d0f6-34f513631e57"
      },
      "execution_count": 4,
      "outputs": [
        {
          "output_type": "execute_result",
          "data": {
            "text/plain": [
              "                      Name                  Contains  \\\n",
              "0       Andol 0.5mg Tablet       Haloperidol (0.5mg)   \n",
              "1  Avastin 100mg Injection       Bevacizumab (100mg)   \n",
              "2    Actorise 40 Injection  Darbepoetin alfa (40mcg)   \n",
              "3    Actorise 25 Injection  Darbepoetin alfa (25mcg)   \n",
              "4    Actorise 60 Injection  Darbepoetin alfa (60mcg)   \n",
              "\n",
              "                                 ProductIntroduction  \\\n",
              "0  Andol 0.5mg Tablet can also be used for treati...   \n",
              "1  Avastin 100mg Injection is an effective medici...   \n",
              "2  Actorise 40 Injection is a medicine that needs...   \n",
              "3  Actorise 25 Injection is a medicine that needs...   \n",
              "4  Actorise 60 Injection is a medicine that needs...   \n",
              "\n",
              "                                         ProductUses  \\\n",
              "0                                      Schizophrenia   \n",
              "1  Cancer Of Colon And Rectum Non-Small Cell Lung...   \n",
              "2  Anemia Due To Chronic Kidney Disease Treatment...   \n",
              "3  Anemia Due To Chronic Kidney Disease Treatment...   \n",
              "4  Anemia Due To Chronic Kidney Disease Treatment...   \n",
              "\n",
              "                                     ProductBenefits  \\\n",
              "0  Schizophrenia Schizophrenia is a mental disord...   \n",
              "1  Cancer of colon and rectum Cancer of the colon...   \n",
              "2  Treatment of Anemia due to chronic kidney dise...   \n",
              "3  Treatment of Anemia due to chronic kidney dise...   \n",
              "4  Treatment of Anemia due to chronic kidney dise...   \n",
              "\n",
              "                                          SideEffect  \\\n",
              "0  Most side effects do not require any medical a...   \n",
              "1  Most side effects do not require any medical a...   \n",
              "2  Most side effects do not require any medical a...   \n",
              "3  Most side effects do not require any medical a...   \n",
              "4  Most side effects do not require any medical a...   \n",
              "\n",
              "                                            HowToUse  \\\n",
              "0  Take this medicine in the dose and duration as...   \n",
              "1  Your doctor or nurse will give you this medici...   \n",
              "2  Your doctor or nurse will give you this medici...   \n",
              "3  Your doctor or nurse will give you this medici...   \n",
              "4  Your doctor or nurse will give you this medici...   \n",
              "\n",
              "                                            HowWorks  \\\n",
              "0  Andol 0.5mg Tablet is a typical antipsychotic....   \n",
              "1  Avastin 100mg Injection is a anti-angiogenic m...   \n",
              "2  Actorise 40 Injection is an erythropoiesis-sti...   \n",
              "3  Actorise 25 Injection is an erythropoiesis-sti...   \n",
              "4  Actorise 60 Injection is an erythropoiesis-sti...   \n",
              "\n",
              "                                           QuickTips  \\\n",
              "0  Andol 0.5mg Tablet helps treat schizophrenia. ...   \n",
              "1  Avastin 100mg Injection is an effective, first...   \n",
              "2  Actorise 40 Injection helps in the treatment o...   \n",
              "3  Actorise 25 Injection helps in the treatment o...   \n",
              "4  Actorise 60 Injection helps in the treatment o...   \n",
              "\n",
              "                                        SafetyAdvice  \\\n",
              "0  Alcohol Andol 0.5mg Tablet may cause excessive...   \n",
              "1  Alcohol It is not known whether it is safe to ...   \n",
              "2  Alcohol It is not known whether it is safe to ...   \n",
              "3  Alcohol It is not known whether it is safe to ...   \n",
              "4  Alcohol It is not known whether it is safe to ...   \n",
              "\n",
              "                    Chemical_Class  Habit_Forming Therapeutic_Class  \\\n",
              "0         Butyrophenone Derivative          False         NEURO CNS   \n",
              "1        Monoclonal antibody (mAb)          False  ANTI NEOPLASTICS   \n",
              "2  Amino Acids, Peptides Analogues          False     BLOOD RELATED   \n",
              "3  Amino Acids, Peptides Analogues          False     BLOOD RELATED   \n",
              "4  Amino Acids, Peptides Analogues          False     BLOOD RELATED   \n",
              "\n",
              "                                        Action_Class  \n",
              "0                              Typical Antipsychotic  \n",
              "1  Vascular endothelial growth factor (VEGF) inhi...  \n",
              "2              Erythropoiesis-stimulating agent (ESA  \n",
              "3              Erythropoiesis-stimulating agent (ESA  \n",
              "4              Erythropoiesis-stimulating agent (ESA  "
            ],
            "text/html": [
              "\n",
              "  <div id=\"df-e1be815c-eb36-4993-9678-0107df5349f7\" class=\"colab-df-container\">\n",
              "    <div>\n",
              "<style scoped>\n",
              "    .dataframe tbody tr th:only-of-type {\n",
              "        vertical-align: middle;\n",
              "    }\n",
              "\n",
              "    .dataframe tbody tr th {\n",
              "        vertical-align: top;\n",
              "    }\n",
              "\n",
              "    .dataframe thead th {\n",
              "        text-align: right;\n",
              "    }\n",
              "</style>\n",
              "<table border=\"1\" class=\"dataframe\">\n",
              "  <thead>\n",
              "    <tr style=\"text-align: right;\">\n",
              "      <th></th>\n",
              "      <th>Name</th>\n",
              "      <th>Contains</th>\n",
              "      <th>ProductIntroduction</th>\n",
              "      <th>ProductUses</th>\n",
              "      <th>ProductBenefits</th>\n",
              "      <th>SideEffect</th>\n",
              "      <th>HowToUse</th>\n",
              "      <th>HowWorks</th>\n",
              "      <th>QuickTips</th>\n",
              "      <th>SafetyAdvice</th>\n",
              "      <th>Chemical_Class</th>\n",
              "      <th>Habit_Forming</th>\n",
              "      <th>Therapeutic_Class</th>\n",
              "      <th>Action_Class</th>\n",
              "    </tr>\n",
              "  </thead>\n",
              "  <tbody>\n",
              "    <tr>\n",
              "      <th>0</th>\n",
              "      <td>Andol 0.5mg Tablet</td>\n",
              "      <td>Haloperidol (0.5mg)</td>\n",
              "      <td>Andol 0.5mg Tablet can also be used for treati...</td>\n",
              "      <td>Schizophrenia</td>\n",
              "      <td>Schizophrenia Schizophrenia is a mental disord...</td>\n",
              "      <td>Most side effects do not require any medical a...</td>\n",
              "      <td>Take this medicine in the dose and duration as...</td>\n",
              "      <td>Andol 0.5mg Tablet is a typical antipsychotic....</td>\n",
              "      <td>Andol 0.5mg Tablet helps treat schizophrenia. ...</td>\n",
              "      <td>Alcohol Andol 0.5mg Tablet may cause excessive...</td>\n",
              "      <td>Butyrophenone Derivative</td>\n",
              "      <td>False</td>\n",
              "      <td>NEURO CNS</td>\n",
              "      <td>Typical Antipsychotic</td>\n",
              "    </tr>\n",
              "    <tr>\n",
              "      <th>1</th>\n",
              "      <td>Avastin 100mg Injection</td>\n",
              "      <td>Bevacizumab (100mg)</td>\n",
              "      <td>Avastin 100mg Injection is an effective medici...</td>\n",
              "      <td>Cancer Of Colon And Rectum Non-Small Cell Lung...</td>\n",
              "      <td>Cancer of colon and rectum Cancer of the colon...</td>\n",
              "      <td>Most side effects do not require any medical a...</td>\n",
              "      <td>Your doctor or nurse will give you this medici...</td>\n",
              "      <td>Avastin 100mg Injection is a anti-angiogenic m...</td>\n",
              "      <td>Avastin 100mg Injection is an effective, first...</td>\n",
              "      <td>Alcohol It is not known whether it is safe to ...</td>\n",
              "      <td>Monoclonal antibody (mAb)</td>\n",
              "      <td>False</td>\n",
              "      <td>ANTI NEOPLASTICS</td>\n",
              "      <td>Vascular endothelial growth factor (VEGF) inhi...</td>\n",
              "    </tr>\n",
              "    <tr>\n",
              "      <th>2</th>\n",
              "      <td>Actorise 40 Injection</td>\n",
              "      <td>Darbepoetin alfa (40mcg)</td>\n",
              "      <td>Actorise 40 Injection is a medicine that needs...</td>\n",
              "      <td>Anemia Due To Chronic Kidney Disease Treatment...</td>\n",
              "      <td>Treatment of Anemia due to chronic kidney dise...</td>\n",
              "      <td>Most side effects do not require any medical a...</td>\n",
              "      <td>Your doctor or nurse will give you this medici...</td>\n",
              "      <td>Actorise 40 Injection is an erythropoiesis-sti...</td>\n",
              "      <td>Actorise 40 Injection helps in the treatment o...</td>\n",
              "      <td>Alcohol It is not known whether it is safe to ...</td>\n",
              "      <td>Amino Acids, Peptides Analogues</td>\n",
              "      <td>False</td>\n",
              "      <td>BLOOD RELATED</td>\n",
              "      <td>Erythropoiesis-stimulating agent (ESA</td>\n",
              "    </tr>\n",
              "    <tr>\n",
              "      <th>3</th>\n",
              "      <td>Actorise 25 Injection</td>\n",
              "      <td>Darbepoetin alfa (25mcg)</td>\n",
              "      <td>Actorise 25 Injection is a medicine that needs...</td>\n",
              "      <td>Anemia Due To Chronic Kidney Disease Treatment...</td>\n",
              "      <td>Treatment of Anemia due to chronic kidney dise...</td>\n",
              "      <td>Most side effects do not require any medical a...</td>\n",
              "      <td>Your doctor or nurse will give you this medici...</td>\n",
              "      <td>Actorise 25 Injection is an erythropoiesis-sti...</td>\n",
              "      <td>Actorise 25 Injection helps in the treatment o...</td>\n",
              "      <td>Alcohol It is not known whether it is safe to ...</td>\n",
              "      <td>Amino Acids, Peptides Analogues</td>\n",
              "      <td>False</td>\n",
              "      <td>BLOOD RELATED</td>\n",
              "      <td>Erythropoiesis-stimulating agent (ESA</td>\n",
              "    </tr>\n",
              "    <tr>\n",
              "      <th>4</th>\n",
              "      <td>Actorise 60 Injection</td>\n",
              "      <td>Darbepoetin alfa (60mcg)</td>\n",
              "      <td>Actorise 60 Injection is a medicine that needs...</td>\n",
              "      <td>Anemia Due To Chronic Kidney Disease Treatment...</td>\n",
              "      <td>Treatment of Anemia due to chronic kidney dise...</td>\n",
              "      <td>Most side effects do not require any medical a...</td>\n",
              "      <td>Your doctor or nurse will give you this medici...</td>\n",
              "      <td>Actorise 60 Injection is an erythropoiesis-sti...</td>\n",
              "      <td>Actorise 60 Injection helps in the treatment o...</td>\n",
              "      <td>Alcohol It is not known whether it is safe to ...</td>\n",
              "      <td>Amino Acids, Peptides Analogues</td>\n",
              "      <td>False</td>\n",
              "      <td>BLOOD RELATED</td>\n",
              "      <td>Erythropoiesis-stimulating agent (ESA</td>\n",
              "    </tr>\n",
              "  </tbody>\n",
              "</table>\n",
              "</div>\n",
              "    <div class=\"colab-df-buttons\">\n",
              "\n",
              "  <div class=\"colab-df-container\">\n",
              "    <button class=\"colab-df-convert\" onclick=\"convertToInteractive('df-e1be815c-eb36-4993-9678-0107df5349f7')\"\n",
              "            title=\"Convert this dataframe to an interactive table.\"\n",
              "            style=\"display:none;\">\n",
              "\n",
              "  <svg xmlns=\"http://www.w3.org/2000/svg\" height=\"24px\" viewBox=\"0 -960 960 960\">\n",
              "    <path d=\"M120-120v-720h720v720H120Zm60-500h600v-160H180v160Zm220 220h160v-160H400v160Zm0 220h160v-160H400v160ZM180-400h160v-160H180v160Zm440 0h160v-160H620v160ZM180-180h160v-160H180v160Zm440 0h160v-160H620v160Z\"/>\n",
              "  </svg>\n",
              "    </button>\n",
              "\n",
              "  <style>\n",
              "    .colab-df-container {\n",
              "      display:flex;\n",
              "      gap: 12px;\n",
              "    }\n",
              "\n",
              "    .colab-df-convert {\n",
              "      background-color: #E8F0FE;\n",
              "      border: none;\n",
              "      border-radius: 50%;\n",
              "      cursor: pointer;\n",
              "      display: none;\n",
              "      fill: #1967D2;\n",
              "      height: 32px;\n",
              "      padding: 0 0 0 0;\n",
              "      width: 32px;\n",
              "    }\n",
              "\n",
              "    .colab-df-convert:hover {\n",
              "      background-color: #E2EBFA;\n",
              "      box-shadow: 0px 1px 2px rgba(60, 64, 67, 0.3), 0px 1px 3px 1px rgba(60, 64, 67, 0.15);\n",
              "      fill: #174EA6;\n",
              "    }\n",
              "\n",
              "    .colab-df-buttons div {\n",
              "      margin-bottom: 4px;\n",
              "    }\n",
              "\n",
              "    [theme=dark] .colab-df-convert {\n",
              "      background-color: #3B4455;\n",
              "      fill: #D2E3FC;\n",
              "    }\n",
              "\n",
              "    [theme=dark] .colab-df-convert:hover {\n",
              "      background-color: #434B5C;\n",
              "      box-shadow: 0px 1px 3px 1px rgba(0, 0, 0, 0.15);\n",
              "      filter: drop-shadow(0px 1px 2px rgba(0, 0, 0, 0.3));\n",
              "      fill: #FFFFFF;\n",
              "    }\n",
              "  </style>\n",
              "\n",
              "    <script>\n",
              "      const buttonEl =\n",
              "        document.querySelector('#df-e1be815c-eb36-4993-9678-0107df5349f7 button.colab-df-convert');\n",
              "      buttonEl.style.display =\n",
              "        google.colab.kernel.accessAllowed ? 'block' : 'none';\n",
              "\n",
              "      async function convertToInteractive(key) {\n",
              "        const element = document.querySelector('#df-e1be815c-eb36-4993-9678-0107df5349f7');\n",
              "        const dataTable =\n",
              "          await google.colab.kernel.invokeFunction('convertToInteractive',\n",
              "                                                    [key], {});\n",
              "        if (!dataTable) return;\n",
              "\n",
              "        const docLinkHtml = 'Like what you see? Visit the ' +\n",
              "          '<a target=\"_blank\" href=https://colab.research.google.com/notebooks/data_table.ipynb>data table notebook</a>'\n",
              "          + ' to learn more about interactive tables.';\n",
              "        element.innerHTML = '';\n",
              "        dataTable['output_type'] = 'display_data';\n",
              "        await google.colab.output.renderOutput(dataTable, element);\n",
              "        const docLink = document.createElement('div');\n",
              "        docLink.innerHTML = docLinkHtml;\n",
              "        element.appendChild(docLink);\n",
              "      }\n",
              "    </script>\n",
              "  </div>\n",
              "\n",
              "\n",
              "    <div id=\"df-cb494b7c-876c-4a1f-85d5-fdf56f66f123\">\n",
              "      <button class=\"colab-df-quickchart\" onclick=\"quickchart('df-cb494b7c-876c-4a1f-85d5-fdf56f66f123')\"\n",
              "                title=\"Suggest charts\"\n",
              "                style=\"display:none;\">\n",
              "\n",
              "<svg xmlns=\"http://www.w3.org/2000/svg\" height=\"24px\"viewBox=\"0 0 24 24\"\n",
              "     width=\"24px\">\n",
              "    <g>\n",
              "        <path d=\"M19 3H5c-1.1 0-2 .9-2 2v14c0 1.1.9 2 2 2h14c1.1 0 2-.9 2-2V5c0-1.1-.9-2-2-2zM9 17H7v-7h2v7zm4 0h-2V7h2v10zm4 0h-2v-4h2v4z\"/>\n",
              "    </g>\n",
              "</svg>\n",
              "      </button>\n",
              "\n",
              "<style>\n",
              "  .colab-df-quickchart {\n",
              "      --bg-color: #E8F0FE;\n",
              "      --fill-color: #1967D2;\n",
              "      --hover-bg-color: #E2EBFA;\n",
              "      --hover-fill-color: #174EA6;\n",
              "      --disabled-fill-color: #AAA;\n",
              "      --disabled-bg-color: #DDD;\n",
              "  }\n",
              "\n",
              "  [theme=dark] .colab-df-quickchart {\n",
              "      --bg-color: #3B4455;\n",
              "      --fill-color: #D2E3FC;\n",
              "      --hover-bg-color: #434B5C;\n",
              "      --hover-fill-color: #FFFFFF;\n",
              "      --disabled-bg-color: #3B4455;\n",
              "      --disabled-fill-color: #666;\n",
              "  }\n",
              "\n",
              "  .colab-df-quickchart {\n",
              "    background-color: var(--bg-color);\n",
              "    border: none;\n",
              "    border-radius: 50%;\n",
              "    cursor: pointer;\n",
              "    display: none;\n",
              "    fill: var(--fill-color);\n",
              "    height: 32px;\n",
              "    padding: 0;\n",
              "    width: 32px;\n",
              "  }\n",
              "\n",
              "  .colab-df-quickchart:hover {\n",
              "    background-color: var(--hover-bg-color);\n",
              "    box-shadow: 0 1px 2px rgba(60, 64, 67, 0.3), 0 1px 3px 1px rgba(60, 64, 67, 0.15);\n",
              "    fill: var(--button-hover-fill-color);\n",
              "  }\n",
              "\n",
              "  .colab-df-quickchart-complete:disabled,\n",
              "  .colab-df-quickchart-complete:disabled:hover {\n",
              "    background-color: var(--disabled-bg-color);\n",
              "    fill: var(--disabled-fill-color);\n",
              "    box-shadow: none;\n",
              "  }\n",
              "\n",
              "  .colab-df-spinner {\n",
              "    border: 2px solid var(--fill-color);\n",
              "    border-color: transparent;\n",
              "    border-bottom-color: var(--fill-color);\n",
              "    animation:\n",
              "      spin 1s steps(1) infinite;\n",
              "  }\n",
              "\n",
              "  @keyframes spin {\n",
              "    0% {\n",
              "      border-color: transparent;\n",
              "      border-bottom-color: var(--fill-color);\n",
              "      border-left-color: var(--fill-color);\n",
              "    }\n",
              "    20% {\n",
              "      border-color: transparent;\n",
              "      border-left-color: var(--fill-color);\n",
              "      border-top-color: var(--fill-color);\n",
              "    }\n",
              "    30% {\n",
              "      border-color: transparent;\n",
              "      border-left-color: var(--fill-color);\n",
              "      border-top-color: var(--fill-color);\n",
              "      border-right-color: var(--fill-color);\n",
              "    }\n",
              "    40% {\n",
              "      border-color: transparent;\n",
              "      border-right-color: var(--fill-color);\n",
              "      border-top-color: var(--fill-color);\n",
              "    }\n",
              "    60% {\n",
              "      border-color: transparent;\n",
              "      border-right-color: var(--fill-color);\n",
              "    }\n",
              "    80% {\n",
              "      border-color: transparent;\n",
              "      border-right-color: var(--fill-color);\n",
              "      border-bottom-color: var(--fill-color);\n",
              "    }\n",
              "    90% {\n",
              "      border-color: transparent;\n",
              "      border-bottom-color: var(--fill-color);\n",
              "    }\n",
              "  }\n",
              "</style>\n",
              "\n",
              "      <script>\n",
              "        async function quickchart(key) {\n",
              "          const quickchartButtonEl =\n",
              "            document.querySelector('#' + key + ' button');\n",
              "          quickchartButtonEl.disabled = true;  // To prevent multiple clicks.\n",
              "          quickchartButtonEl.classList.add('colab-df-spinner');\n",
              "          try {\n",
              "            const charts = await google.colab.kernel.invokeFunction(\n",
              "                'suggestCharts', [key], {});\n",
              "          } catch (error) {\n",
              "            console.error('Error during call to suggestCharts:', error);\n",
              "          }\n",
              "          quickchartButtonEl.classList.remove('colab-df-spinner');\n",
              "          quickchartButtonEl.classList.add('colab-df-quickchart-complete');\n",
              "        }\n",
              "        (() => {\n",
              "          let quickchartButtonEl =\n",
              "            document.querySelector('#df-cb494b7c-876c-4a1f-85d5-fdf56f66f123 button');\n",
              "          quickchartButtonEl.style.display =\n",
              "            google.colab.kernel.accessAllowed ? 'block' : 'none';\n",
              "        })();\n",
              "      </script>\n",
              "    </div>\n",
              "\n",
              "    </div>\n",
              "  </div>\n"
            ],
            "application/vnd.google.colaboratory.intrinsic+json": {
              "type": "dataframe",
              "variable_name": "df"
            }
          },
          "metadata": {},
          "execution_count": 4
        }
      ]
    },
    {
      "cell_type": "code",
      "source": [
        "df.shape"
      ],
      "metadata": {
        "colab": {
          "base_uri": "https://localhost:8080/"
        },
        "id": "HUPFt7wMy6jK",
        "outputId": "d5026f64-58ed-41e3-f40b-4cc1046525cd"
      },
      "execution_count": 5,
      "outputs": [
        {
          "output_type": "execute_result",
          "data": {
            "text/plain": [
              "(148272, 14)"
            ]
          },
          "metadata": {},
          "execution_count": 5
        }
      ]
    },
    {
      "cell_type": "code",
      "source": [
        "df.columns"
      ],
      "metadata": {
        "colab": {
          "base_uri": "https://localhost:8080/"
        },
        "id": "xN4bGM2LzHEw",
        "outputId": "33bcef86-2a52-4034-8c91-71c9b785360e"
      },
      "execution_count": 6,
      "outputs": [
        {
          "output_type": "execute_result",
          "data": {
            "text/plain": [
              "Index(['Name', 'Contains', 'ProductIntroduction', 'ProductUses',\n",
              "       'ProductBenefits', 'SideEffect', 'HowToUse', 'HowWorks', 'QuickTips',\n",
              "       'SafetyAdvice', 'Chemical_Class', 'Habit_Forming', 'Therapeutic_Class',\n",
              "       'Action_Class'],\n",
              "      dtype='object')"
            ]
          },
          "metadata": {},
          "execution_count": 6
        }
      ]
    },
    {
      "cell_type": "code",
      "source": [
        "!pip install annoy"
      ],
      "metadata": {
        "colab": {
          "base_uri": "https://localhost:8080/"
        },
        "id": "U_dBgMx6iE__",
        "outputId": "8440540e-4795-4850-86b7-7d12a30f6953"
      },
      "execution_count": 16,
      "outputs": [
        {
          "output_type": "stream",
          "name": "stdout",
          "text": [
            "Collecting annoy\n",
            "  Downloading annoy-1.17.3.tar.gz (647 kB)\n",
            "\u001b[?25l     \u001b[90m━━━━━━━━━━━━━━━━━━━━━━━━━━━━━━━━━━━━━━━━\u001b[0m \u001b[32m0.0/647.5 kB\u001b[0m \u001b[31m?\u001b[0m eta \u001b[36m-:--:--\u001b[0m\r\u001b[2K     \u001b[91m━━━━━━━━━━━━━━━━━━━━━━━━━━━━━━━━\u001b[0m\u001b[90m╺\u001b[0m\u001b[90m━━━━━\u001b[0m \u001b[32m553.0/647.5 kB\u001b[0m \u001b[31m16.8 MB/s\u001b[0m eta \u001b[36m0:00:01\u001b[0m\r\u001b[2K     \u001b[90m━━━━━━━━━━━━━━━━━━━━━━━━━━━━━━━━━━━━━━\u001b[0m \u001b[32m647.5/647.5 kB\u001b[0m \u001b[31m11.3 MB/s\u001b[0m eta \u001b[36m0:00:00\u001b[0m\n",
            "\u001b[?25h  Preparing metadata (setup.py) ... \u001b[?25l\u001b[?25hdone\n",
            "Building wheels for collected packages: annoy\n",
            "  Building wheel for annoy (setup.py) ... \u001b[?25l\u001b[?25hdone\n",
            "  Created wheel for annoy: filename=annoy-1.17.3-cp311-cp311-linux_x86_64.whl size=553318 sha256=01892e597ef40e5c4831323bbe263b4fcfa2949966244bde4636999f0fa79bdd\n",
            "  Stored in directory: /root/.cache/pip/wheels/33/e5/58/0a3e34b92bedf09b4c57e37a63ff395ade6f6c1099ba59877c\n",
            "Successfully built annoy\n",
            "Installing collected packages: annoy\n",
            "Successfully installed annoy-1.17.3\n"
          ]
        }
      ]
    },
    {
      "cell_type": "code",
      "source": [
        "\n",
        "import re\n",
        "from sklearn.feature_extraction.text import TfidfVectorizer\n",
        "from annoy import AnnoyIndex"
      ],
      "metadata": {
        "id": "P7jqumXtFY0P"
      },
      "execution_count": 17,
      "outputs": []
    },
    {
      "cell_type": "code",
      "source": [
        "try:\n",
        "\n",
        "    df = pd.read_csv('final_cleaned_MID.csv')\n",
        "    df.fillna('', inplace=True)\n",
        "\n",
        "    df['Name'] = df['Name'].str.strip()\n",
        "    print(\"Data loaded successfully.\")\n",
        "except FileNotFoundError:\n",
        "    print(\"Error: The file 'final_reduced_MID.csv' was not found.\")"
      ],
      "metadata": {
        "colab": {
          "base_uri": "https://localhost:8080/"
        },
        "id": "mEFpEYo9QhKg",
        "outputId": "1e47847e-fd40-44dd-ca4c-df8b65dd3f81"
      },
      "execution_count": 18,
      "outputs": [
        {
          "output_type": "stream",
          "name": "stdout",
          "text": [
            "Data loaded successfully.\n"
          ]
        }
      ]
    },
    {
      "cell_type": "code",
      "source": [
        "\n",
        "df['corpus'] = (\n",
        "    df['ProductUses'].astype(str) + ' ' +\n",
        "    df['ProductBenefits'].astype(str) + ' ' +\n",
        "    df['HowWorks'].astype(str) + ' ' +\n",
        "    (df['Therapeutic_Class'].astype(str) + ' ') * 3\n",
        ")\n",
        "\n",
        "print(\"Building the TF-IDF model...\")\n",
        "tfidf = TfidfVectorizer(stop_words='english', max_features=5000)\n",
        "tfidf_matrix = tfidf.fit_transform(df['corpus'])\n",
        "print(\"TF-IDF model built.\")"
      ],
      "metadata": {
        "colab": {
          "base_uri": "https://localhost:8080/"
        },
        "id": "ZBE55vaMFY3j",
        "outputId": "4138db65-126d-4d5d-e26c-d855f120095e"
      },
      "execution_count": 19,
      "outputs": [
        {
          "output_type": "stream",
          "name": "stdout",
          "text": [
            "Building the TF-IDF model...\n",
            "TF-IDF model built.\n"
          ]
        }
      ]
    },
    {
      "cell_type": "code",
      "source": [
        "\n",
        "num_features = tfidf_matrix.shape[1]\n",
        "annoy_index = AnnoyIndex(num_features, 'angular')\n",
        "\n",
        "for i in range(tfidf_matrix.shape[0]):\n",
        "    vector = tfidf_matrix[i].toarray()[0]\n",
        "    annoy_index.add_item(i, vector)\n",
        "\n",
        "annoy_index.build(10)\n"
      ],
      "metadata": {
        "colab": {
          "base_uri": "https://localhost:8080/"
        },
        "id": "-5wlTmAQiwQj",
        "outputId": "a3adf6aa-3fa5-4e35-d555-9ccc724bf87b"
      },
      "execution_count": 20,
      "outputs": [
        {
          "output_type": "execute_result",
          "data": {
            "text/plain": [
              "True"
            ]
          },
          "metadata": {},
          "execution_count": 20
        }
      ]
    },
    {
      "cell_type": "code",
      "source": [
        "\n",
        "indices = pd.Series(df.index, index=df['Name'])\n",
        "\n",
        "def get_recommendations(name, annoy_index, df, indices, top_n=5):\n",
        "    \"\"\"\n",
        "    Gets recommendations instantly using the pre-built Annoy index.\n",
        "    \"\"\"\n",
        "    try:\n",
        "        idx = indices[name]\n",
        "\n",
        "\n",
        "        if isinstance(idx, pd.Series):\n",
        "            idx = idx.iloc[0]\n",
        "\n",
        "        neighbor_indices = annoy_index.get_nns_by_item(idx, top_n + 1)\n",
        "\n",
        "        medicine_indices = [i for i in neighbor_indices if i != idx][:top_n]\n",
        "\n",
        "        return df['Name'].iloc[medicine_indices].tolist()\n",
        "    except (IndexError, KeyError):\n",
        "        return []\n",
        "\n",
        "\n",
        "\n"
      ],
      "metadata": {
        "id": "3qG1ynnLja3U"
      },
      "execution_count": 25,
      "outputs": []
    },
    {
      "cell_type": "code",
      "source": [
        "# --- Q&A Creation ---\n",
        "qa_pairs = []\n",
        "\n",
        "for index, row in df.iterrows():\n",
        "\n",
        "    if (index + 1) % 1000 == 0:\n",
        "        print(f\"  Processing row {index + 1} of {len(df)}...\")\n",
        "\n",
        "    name = row['Name']\n",
        "\n",
        "\n",
        "     # Recommendations\n",
        "    recommendations = get_recommendations(name, annoy_index, df, indices)\n",
        "    if recommendations:\n",
        "        rec_list = \", \".join(recommendations)\n",
        "        qa_pairs.append({\n",
        "            'Question': f\"What is an alternative to {name}?\",\n",
        "            'Answer': f\"Some other medicines used for similar conditions include: {rec_list}. However, you must consult your doctor before making any changes to your treatment.\"\n",
        "        })\n",
        "        qa_pairs.append({\n",
        "            'Question': f\"Are there other options besides {name}?\",\n",
        "            'Answer': f\"Medicines like {rec_list} also treat similar issues. Please speak with a healthcare professional to see if they are right for you.\"\n",
        "        })\n",
        "\n",
        "for index, row in df.iterrows():\n",
        "    name = row['Name']\n",
        "    uses = row['ProductUses']\n",
        "    benefits = row['ProductBenefits']\n",
        "    side_effects = row['SideEffect']\n",
        "    how_to_use = row['HowToUse']\n",
        "    how_it_works = row['HowWorks']\n",
        "    quick_tips = row['QuickTips']\n",
        "    safety_advice = row['SafetyAdvice']\n",
        "\n",
        "    # Uses & Benefits\n",
        "    if benefits != 'No information available.':\n",
        "        qa_pairs.append({'Question': f\"What is {name} used for?\", 'Answer': benefits})\n",
        "        qa_pairs.append({'Question': f\"What are the benefits of taking {name}?\", 'Answer': benefits})\n",
        "        qa_pairs.append({'Question': f\"Why would a doctor prescribe {name}?\", 'Answer': benefits})\n",
        "        if uses != 'No information available.':\n",
        "            qa_pairs.append({'Question': f\"My doctor said I have {uses.lower()}, will {name} help?\", 'Answer': benefits})\n",
        "\n",
        "    # Side Effects\n",
        "    if side_effects != 'No information available.':\n",
        "        qa_pairs.append({'Question': f\"What are the side effects of {name}?\", 'Answer': side_effects})\n",
        "        qa_pairs.append({'Question': f\"Are there any common side effects for {name}?\", 'Answer': side_effects})\n",
        "        qa_pairs.append({'Question': f\"Should I be worried about any side effects with {name}?\", 'Answer': side_effects})\n",
        "\n",
        "    # How to Use\n",
        "    if how_to_use != 'No information available.':\n",
        "        qa_pairs.append({'Question': f\"How should I take {name}?\", 'Answer': how_to_use})\n",
        "        qa_pairs.append({'Question': f\"What is the correct way to use {name}?\", 'Answer': how_to_use})\n",
        "        qa_pairs.append({'Question': f\"Can you explain the dosage instructions for {name}?\", 'Answer': how_to_use})\n",
        "\n",
        "    # How it Works\n",
        "    if how_it_works != 'No information available.':\n",
        "        qa_pairs.append({'Question': f\"How does {name} work?\", 'Answer': how_it_works})\n",
        "        qa_pairs.append({'Question': f\"What is the mechanism of action for {name}?\", 'Answer': how_it_works})\n",
        "        qa_pairs.append({'Question': f\"Can you explain the science behind how {name} functions?\", 'Answer': how_it_works})\n",
        "\n",
        "    # Quick Tips\n",
        "    if quick_tips != 'No information available.':\n",
        "        qa_pairs.append({'Question': f\"Do you have any quick tips for someone taking {name}?\", 'Answer': quick_tips})\n",
        "        qa_pairs.append({'Question': f\"What are some helpful tips for using {name}?\", 'Answer': quick_tips})\n",
        "\n",
        "    # Safety Advice\n",
        "    if safety_advice != 'No information available.':\n",
        "        qa_pairs.append({'Question': f\"What is the general safety advice for {name}?\", 'Answer': safety_advice})\n",
        "        alcohol_info = re.search(r'Alcohol\\s*(.*?)\\s*Pregnancy', safety_advice, re.IGNORECASE | re.DOTALL)\n",
        "        if alcohol_info:\n",
        "            qa_pairs.append({'Question': f\"Is it safe to drink alcohol with {name}?\", 'Answer': alcohol_info.group(1).strip()})\n",
        "        pregnancy_info = re.search(r'Pregnancy\\s*(.*?)\\s*Breast feeding', safety_advice, re.IGNORECASE | re.DOTALL)\n",
        "        if pregnancy_info:\n",
        "            qa_pairs.append({'Question': f\"Can I take {name} if I am pregnant?\", 'Answer': pregnancy_info.group(1).strip()})\n",
        "        driving_info = re.search(r'Driving\\s*(.*?)\\s*Kidney', safety_advice, re.IGNORECASE | re.DOTALL)\n",
        "        if driving_info:\n",
        "            qa_pairs.append({'Question': f\"Is it safe to drive while taking {name}?\", 'Answer': driving_info.group(1).strip()})\n",
        "\n",
        "\n",
        "\n",
        "qa_df = pd.DataFrame(qa_pairs).drop_duplicates()\n",
        "\n",
        "\n"
      ],
      "metadata": {
        "id": "pfH6PEkBFY6w"
      },
      "execution_count": null,
      "outputs": []
    },
    {
      "cell_type": "code",
      "source": [
        "\n",
        "def ask(question):\n",
        "    results = qa_df[qa_df['Question'].str.lower().str.contains(question.lower())]\n",
        "    if not results.empty:\n",
        "        for _, row in results.iterrows():\n",
        "            print(f\"Q: {row['Question']}\\nA: {row['Answer']}\\n\")\n",
        "    else:\n",
        "        print(\"No matching Q&A found.\")\n",
        "\n"
      ],
      "metadata": {
        "id": "n6IW7DPyFY9z"
      },
      "execution_count": 27,
      "outputs": []
    },
    {
      "cell_type": "code",
      "source": [
        "ask(\"side effects of aspirin\")"
      ],
      "metadata": {
        "colab": {
          "base_uri": "https://localhost:8080/"
        },
        "id": "sApHgn-QFZAw",
        "outputId": "f70e5729-a019-4624-ee0b-33a6c1461aaf"
      },
      "execution_count": 28,
      "outputs": [
        {
          "output_type": "stream",
          "name": "stdout",
          "text": [
            "Q: What are the side effects of Aspirin 300mg Tablet?\n",
            "A: Most side effects do not require any medical attention and disappear as your body adjusts to the medicine. Consult your doctor if they persist or if you’re worried about them Common side effects of Aspirin Heartburn Increased bleeding tendency Nausea Upset stomach Vomiting\n",
            "\n",
            "Q: What are the side effects of Aspirin 50mg Tablet DR?\n",
            "A: Most side effects do not require any medical attention and disappear as your body adjusts to the medicine. Consult your doctor if they persist or if you’re worried about them Common side effects of Aspirin Heartburn Increased bleeding tendency Nausea Upset stomach Vomiting\n",
            "\n"
          ]
        }
      ]
    },
    {
      "cell_type": "code",
      "source": [
        "ask(\"What is an alternative to Paracetamol?\")\n",
        "ask(\"Are there other options besides Ibuprofen?\")"
      ],
      "metadata": {
        "colab": {
          "base_uri": "https://localhost:8080/"
        },
        "id": "TbJlWM5iFZDZ",
        "outputId": "5c3a9f80-32b8-467b-e475-cd3fa903c162"
      },
      "execution_count": 29,
      "outputs": [
        {
          "output_type": "stream",
          "name": "stdout",
          "text": [
            "Q: What is an alternative to Paracetamol 120mg Oral Suspension?\n",
            "A: Some other medicines used for similar conditions include: Brumol 120mg Oral Suspension, Fevstop 120mg Oral Suspension, Parasuit 120mg Oral Suspension, Brikamol Oral Suspension, Fenil Oral Suspension. However, you must consult your doctor before making any changes to your treatment.\n",
            "\n",
            "Q: What is an alternative to Paracetamol O Tablet?\n",
            "A: Some other medicines used for similar conditions include: Algina Tablet, Colsun Tablet, Gempar 1K Tablet, Ikopar Tablet, Metacin Tablet. However, you must consult your doctor before making any changes to your treatment.\n",
            "\n",
            "No matching Q&A found.\n"
          ]
        }
      ]
    },
    {
      "cell_type": "code",
      "source": [
        "ask(\"Do you have any quick tips for someone taking Insulin?\")"
      ],
      "metadata": {
        "colab": {
          "base_uri": "https://localhost:8080/"
        },
        "id": "PIO4oaJlFZF9",
        "outputId": "fff4dbbf-37be-46dd-9bc3-fc70b71a0248"
      },
      "execution_count": 30,
      "outputs": [
        {
          "output_type": "stream",
          "name": "stdout",
          "text": [
            "Q: Do you have any quick tips for someone taking Insulin 40IU/ml Injection?\n",
            "A: Hypoglycemia (low blood sugar level) is a common side effect. Hence, regular monitoring of blood sugar levels is required while taking this medicine. Injection below the skin of the abdomen results in faster absorption than other injection sites. Injection sites must be rotated to prevent hard lumps from developing at one site. Opened vials/cartridge are good at room temperature for up to 4 weeks, while unopened vials must be placed in the refrigerator (2°C–8°C).\n",
            "\n"
          ]
        }
      ]
    },
    {
      "cell_type": "code",
      "source": [
        "OUTPUT_FILE = 'chatbot_qa_pairs.csv'\n",
        "qa_df.to_csv(OUTPUT_FILE, index=False)\n",
        "print(f\"Q&A pairs saved to {OUTPUT_FILE}\")"
      ],
      "metadata": {
        "colab": {
          "base_uri": "https://localhost:8080/"
        },
        "id": "YoS5d1wBFZI1",
        "outputId": "44e7772c-8753-47d4-b20a-63fd54279a62"
      },
      "execution_count": 31,
      "outputs": [
        {
          "output_type": "stream",
          "name": "stdout",
          "text": [
            "Q&A pairs saved to chatbot_qa_pairs.csv\n"
          ]
        }
      ]
    },
    {
      "cell_type": "code",
      "source": [],
      "metadata": {
        "id": "6qgYvbJ6FZLp"
      },
      "execution_count": null,
      "outputs": []
    },
    {
      "cell_type": "code",
      "source": [],
      "metadata": {
        "id": "5dNtaFdJFZOQ"
      },
      "execution_count": null,
      "outputs": []
    },
    {
      "cell_type": "code",
      "source": [],
      "metadata": {
        "id": "e1FpjamqFZRz"
      },
      "execution_count": null,
      "outputs": []
    },
    {
      "cell_type": "code",
      "source": [
        "\n",
        "import re\n",
        "\n",
        "def create_qa_pairs(source_filename, output_filename):\n",
        "\n",
        "    try:\n",
        "        print(f\"Loading data from '{source_filename}'...\")\n",
        "        df = pd.read_csv(source_filename)\n",
        "        # Fill any potential missing values with a placeholder to prevent errors\n",
        "        df.fillna('No information available.', inplace=True)\n",
        "    except FileNotFoundError:\n",
        "        print(f\"Error: The file '{source_filename}' was not found.\")\n",
        "        return\n",
        "\n",
        "    qa_pairs = []\n",
        "\n",
        "    print(\"Generating Q&A pairs for each medicine...\")\n",
        "    # Iterate over each row in the DataFrame\n",
        "    for index, row in df.iterrows():\n",
        "        name = row['Name']\n",
        "        uses = row['ProductUses']\n",
        "        benefits = row['ProductBenefits']\n",
        "        side_effects = row['SideEffect']\n",
        "        how_to_use = row['HowToUse']\n",
        "        how_it_works = row['HowWorks']\n",
        "        quick_tips = row['QuickTips']\n",
        "        safety_advice = row['SafetyAdvice']\n",
        "\n",
        "        # --- Generate questions based on different columns and templates ---\n",
        "\n",
        "        # 1. Product Uses & Benefits\n",
        "        if benefits != 'No information available.':\n",
        "            qa_pairs.append({'Question': f\"What is {name} used for?\", 'Answer': benefits})\n",
        "            qa_pairs.append({'Question': f\"What are the benefits of taking {name}?\", 'Answer': benefits})\n",
        "            qa_pairs.append({'Question': f\"Why would a doctor prescribe {name}?\", 'Answer': benefits})\n",
        "            if uses != 'No information available.':\n",
        "                 qa_pairs.append({'Question': f\"My doctor said I have {uses.lower()}, will {name} help?\", 'Answer': benefits})\n",
        "\n",
        "\n",
        "        # 2. Side Effects\n",
        "        if side_effects != 'No information available.':\n",
        "            qa_pairs.append({'Question': f\"What are the side effects of {name}?\", 'Answer': side_effects})\n",
        "            qa_pairs.append({'Question': f\"Are there any common side effects for {name}?\", 'Answer': side_effects})\n",
        "            qa_pairs.append({'Question': f\"Should I be worried about any side effects with {name}?\", 'Answer': side_effects})\n",
        "\n",
        "        # 3. How to Use\n",
        "        if how_to_use != 'No information available.':\n",
        "            qa_pairs.append({'Question': f\"How should I take {name}?\", 'Answer': how_to_use})\n",
        "            qa_pairs.append({'Question': f\"What is the correct way to use {name}?\", 'Answer': how_to_use})\n",
        "            qa_pairs.append({'Question': f\"Can you explain the dosage instructions for {name}?\", 'Answer': how_to_use})\n",
        "\n",
        "        # 4. How it Works\n",
        "        if how_it_works != 'No information available.':\n",
        "            qa_pairs.append({'Question': f\"How does {name} work?\", 'Answer': how_it_works})\n",
        "            qa_pairs.append({'Question': f\"What is the mechanism of action for {name}?\", 'Answer': how_it_works})\n",
        "            qa_pairs.append({'Question': f\"Can you explain the science behind how {name} functions?\", 'Answer': how_it_works})\n",
        "\n",
        "        # 5. Quick Tips\n",
        "        if quick_tips != 'No information available.':\n",
        "            qa_pairs.append({'Question': f\"Do you have any quick tips for someone taking {name}?\", 'Answer': quick_tips})\n",
        "            qa_pairs.append({'Question': f\"What are some helpful tips for using {name}?\", 'Answer': quick_tips})\n",
        "\n",
        "        # 6. Safety Advice (with specific sub-questions)\n",
        "        if safety_advice != 'No information available.':\n",
        "            qa_pairs.append({'Question': f\"What is the general safety advice for {name}?\", 'Answer': safety_advice})\n",
        "            # Use regex to find specific advice for common queries\n",
        "            alcohol_info = re.search(r'Alcohol\\s*(.*?)\\s*Pregnancy', safety_advice, re.IGNORECASE | re.DOTALL)\n",
        "            if alcohol_info:\n",
        "                qa_pairs.append({'Question': f\"Is it safe to drink alcohol with {name}?\", 'Answer': alcohol_info.group(1).strip()})\n",
        "\n",
        "            pregnancy_info = re.search(r'Pregnancy\\s*(.*?)\\s*Breast feeding', safety_advice, re.IGNORECASE | re.DOTALL)\n",
        "            if pregnancy_info:\n",
        "                 qa_pairs.append({'Question': f\"Can I take {name} if I am pregnant?\", 'Answer': pregnancy_info.group(1).strip()})\n",
        "\n",
        "            driving_info = re.search(r'Driving\\s*(.*?)\\s*Kidney', safety_advice, re.IGNORECASE | re.DOTALL)\n",
        "            if driving_info:\n",
        "                 qa_pairs.append({'Question': f\"Is it safe to drive while taking {name}?\", 'Answer': driving_info.group(1).strip()})\n",
        "\n",
        "\n",
        "    # --- Create a new DataFrame and save to CSV ---\n",
        "    qa_df = pd.DataFrame(qa_pairs)\n",
        "\n",
        "    # Drop any duplicate Q&A pairs that might have been generated\n",
        "    qa_df.drop_duplicates(inplace=True)\n",
        "\n",
        "    print(f\"\\nGenerated a total of {len(qa_df)} unique Q&A pairs.\")\n",
        "\n",
        "    try:\n",
        "        qa_df.to_csv(output_filename, index=False)\n",
        "        print(f\"Successfully saved the Q&A pairs to '{output_filename}'.\")\n",
        "    except Exception as e:\n",
        "        print(f\"An error occurred while saving the file: {e}\")\n",
        "\n",
        "\n",
        "# --- HOW TO USE ---\n",
        "# 1. Set the name of your final cleaned input file.\n",
        "INPUT_FILE = 'final_reduced_MID.csv'\n",
        "\n",
        "# 2. Set the desired name for the Q&A output file.\n",
        "OUTPUT_FILE = 'chatbot_qa_pairs.csv'\n",
        "\n",
        "# 3. Run the function.\n",
        "create_qa_pairs(INPUT_FILE, OUTPUT_FILE)\n"
      ],
      "metadata": {
        "id": "pgAemOxFE450"
      },
      "execution_count": null,
      "outputs": []
    }
  ]
}